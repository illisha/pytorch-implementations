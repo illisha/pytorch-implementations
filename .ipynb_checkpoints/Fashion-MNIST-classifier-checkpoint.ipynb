{
 "cells": [
  {
   "cell_type": "markdown",
   "metadata": {},
   "source": [
    "# Classifying Clothing Images\n",
    "\n",
    "Using the MNSIT fashion dataset"
   ]
  },
  {
   "cell_type": "code",
   "execution_count": 65,
   "metadata": {},
   "outputs": [],
   "source": [
    "# Import libraries \n",
    "import numpy as np \n",
    "import pandas as pd \n",
    "\n",
    "import torch\n",
    "from torch import nn, optim \n",
    "import torch.nn.functional as F\n",
    "\n",
    "import matplotlib.pyplot as plt"
   ]
  },
  {
   "cell_type": "markdown",
   "metadata": {},
   "source": [
    "## Load the data"
   ]
  },
  {
   "cell_type": "code",
   "execution_count": 15,
   "metadata": {},
   "outputs": [],
   "source": [
    "## Get the data \n",
    "\n",
    "from torchvision import datasets, transforms\n",
    "\n",
    "# Define a transform to normalize the data \n",
    "transform = transforms.Compose([transforms.ToTensor(),\n",
    "                               transforms.Normalize(mean=0.5, std=0.5)\n",
    "                              ])\n",
    "\n",
    "\n",
    "# Download and load the tranining data \n",
    "trainset = datasets.FashionMNIST(\n",
    "            root = './data/FashionMNIST',\n",
    "            train = True,\n",
    "            download = True,\n",
    "            transform = transform\n",
    ")\n",
    "\n",
    "trainloader = torch.utils.data.DataLoader(trainset, batch_size=64, shuffle=True)\n",
    "\n",
    "# Get our testset \n",
    "testset = datasets.FashionMNIST(\n",
    "            root = './data/FashionMNIST',\n",
    "            train = False,\n",
    "            download = True,\n",
    "            transform = transform\n",
    ")\n",
    "testloader = torch.utils.data.DataLoader(trainset, batch_size=64, shuffle=True)"
   ]
  },
  {
   "cell_type": "markdown",
   "metadata": {},
   "source": [
    "## Build the Neural Network"
   ]
  },
  {
   "cell_type": "code",
   "execution_count": 4,
   "metadata": {},
   "outputs": [],
   "source": [
    "# Building our network architecture \n",
    "\n",
    "class FashionClassifier(nn.Module):\n",
    "    def __init__(self):\n",
    "        # Invoke super class constructor\n",
    "        super().__init__()\n",
    "        self.fc1 = nn.Linear(784, 256)\n",
    "        self.fc2 = nn.Linear(256, 128)\n",
    "        self.fc3 = nn.Linear(128, 64)\n",
    "        self.fc4 = nn.Linear(64, 10)\n",
    "        \n",
    "    def forward(self, x): \n",
    "        \n",
    "        # Flatten the inputs \n",
    "        x = x.view(x.shape[0], -1)\n",
    "        \n",
    "        x = F.relu(self.fc1(x))\n",
    "        x = F.relu(self.fc2(x))\n",
    "        x = F.relu(self.fc3(x))\n",
    "        x = F.log_softmax(self.fc4(x), dim=1)\n",
    "        \n",
    "        return x"
   ]
  },
  {
   "cell_type": "markdown",
   "metadata": {},
   "source": [
    "## Train the network"
   ]
  },
  {
   "cell_type": "code",
   "execution_count": 5,
   "metadata": {},
   "outputs": [],
   "source": [
    "model = FashionClassifier()\n",
    "loss_crit = nn.NLLLoss()\n",
    "optimizer = optim.Adam(model.parameters(), lr=0.003)"
   ]
  },
  {
   "cell_type": "code",
   "execution_count": 13,
   "metadata": {},
   "outputs": [
    {
     "name": "stdout",
     "output_type": "stream",
     "text": [
      "Training Loss: 482.3867122977972\n",
      "Training Loss: 366.37656236439943\n",
      "Training Loss: 330.79968202114105\n",
      "Training Loss: 313.2208206728101\n",
      "Training Loss: 295.9374607503414\n",
      "Training Loss: 287.22561002522707\n",
      "Training Loss: 271.61869348585606\n",
      "Training Loss: 265.2275680489838\n",
      "Training Loss: 260.74086913466454\n",
      "Training Loss: 250.74555337429047\n"
     ]
    }
   ],
   "source": [
    "# Train the network \n",
    "epochs = 10\n",
    "\n",
    "for epoch in range(epochs): \n",
    "    print(\"Epoch\", epochs)\n",
    "    running_loss = 0\n",
    "    for images, labels in trainloader:\n",
    "        log_probs = model(images)\n",
    "        loss = loss_crit(log_probs, labels)\n",
    "        \n",
    "        optimizer.zero_grad()\n",
    "        loss.backward()\n",
    "        optimizer.step()\n",
    "        \n",
    "        running_loss += loss.item()\n",
    "        \n",
    "    else: \n",
    "        print(f\"Training Loss: {running_loss}\")"
   ]
  },
  {
   "cell_type": "markdown",
   "metadata": {},
   "source": [
    "## Inference and Validation"
   ]
  },
  {
   "cell_type": "code",
   "execution_count": 58,
   "metadata": {},
   "outputs": [
    {
     "name": "stdout",
     "output_type": "stream",
     "text": [
      "torch.Size([64, 10])\n"
     ]
    }
   ],
   "source": [
    "# Get predictions on the test data \n",
    "images, labels = next(iter(testloader))\n",
    "\n",
    "# Get the class probs \n",
    "probs = torch.exp(model(images))\n",
    "\n",
    "print(probs.shape)"
   ]
  },
  {
   "cell_type": "markdown",
   "metadata": {},
   "source": [
    "We can get the most likely class with the highest prob using the topk function. "
   ]
  },
  {
   "cell_type": "code",
   "execution_count": 59,
   "metadata": {},
   "outputs": [
    {
     "name": "stdout",
     "output_type": "stream",
     "text": [
      "tensor([[3],\n",
      "        [9],\n",
      "        [7],\n",
      "        [2],\n",
      "        [2],\n",
      "        [7],\n",
      "        [7],\n",
      "        [2],\n",
      "        [2],\n",
      "        [0]])\n"
     ]
    }
   ],
   "source": [
    "top_p, top_class = probs.topk(k=1, dim=1)\n",
    "\n",
    "print(top_class[:10, :])"
   ]
  },
  {
   "cell_type": "markdown",
   "metadata": {},
   "source": [
    "Check how many predicted classes match each other. "
   ]
  },
  {
   "cell_type": "code",
   "execution_count": 60,
   "metadata": {},
   "outputs": [
    {
     "name": "stdout",
     "output_type": "stream",
     "text": [
      "torch.Size([64, 1])\n"
     ]
    }
   ],
   "source": [
    "equals = (top_class == labels.view(*top_class.shape))\n",
    "print(equals.shape)"
   ]
  },
  {
   "cell_type": "code",
   "execution_count": 61,
   "metadata": {},
   "outputs": [
    {
     "name": "stdout",
     "output_type": "stream",
     "text": [
      "fAccuracy: 85.9375\n"
     ]
    }
   ],
   "source": [
    "# Calculate the mean of the equals \n",
    "accuracy = torch.mean(equals.type(torch.FloatTensor))\n",
    "print(f\"fAccuracy: {accuracy.item() * 100}\")"
   ]
  },
  {
   "cell_type": "markdown",
   "metadata": {},
   "source": [
    "### Combing the validation pass in the training itself\n",
    "\n",
    "I will also add a dropout to the forward pass using `nn.dropout` method"
   ]
  },
  {
   "cell_type": "code",
   "execution_count": 77,
   "metadata": {},
   "outputs": [],
   "source": [
    "# Building our network architecture \n",
    "\n",
    "class FashionClassifier(nn.Module):\n",
    "    def __init__(self):\n",
    "        # Invoke super class constructor\n",
    "        super().__init__()\n",
    "        self.fc1 = nn.Linear(784, 256)\n",
    "        self.fc2 = nn.Linear(256, 128)\n",
    "        self.fc3 = nn.Linear(128, 64)\n",
    "        self.fc4 = nn.Linear(64, 10)\n",
    "        \n",
    "    def forward(self, x): \n",
    "        \n",
    "        # Flatten the inputs \n",
    "        x = x.view(x.shape[0], -1)\n",
    "        \n",
    "        x = F.relu(self.fc1(x))\n",
    "        x = F.relu(self.fc2(x))\n",
    "        x = F.relu(self.fc3(x))\n",
    "        x = F.log_softmax(self.fc4(x), dim=1)\n",
    "        \n",
    "        return x"
   ]
  },
  {
   "cell_type": "code",
   "execution_count": 78,
   "metadata": {},
   "outputs": [
    {
     "name": "stdout",
     "output_type": "stream",
     "text": [
      "\n",
      "Epoch:  1\n",
      "Training Loss: 0.5798359969531549\n",
      "Test Loss: 0.4867266118526459\n",
      "Test Accuracy: 0.8302238583564758\n",
      "\n",
      "Epoch:  2\n",
      "Training Loss: 0.46102330430166555\n",
      "Test Loss: 0.4343608617782593\n",
      "Test Accuracy: 0.8519289493560791\n",
      "\n",
      "Epoch:  3\n",
      "Training Loss: 0.4274493525309095\n",
      "Test Loss: 0.442263126373291\n",
      "Test Accuracy: 0.843233585357666\n",
      "\n",
      "Epoch:  4\n",
      "Training Loss: 0.4248504230875705\n",
      "Test Loss: 0.410408616065979\n",
      "Test Accuracy: 0.8567930459976196\n",
      "\n",
      "Epoch:  5\n",
      "Training Loss: 0.4039513193118547\n",
      "Test Loss: 0.37347665429115295\n",
      "Test Accuracy: 0.8682869076728821\n",
      "\n",
      "Epoch:  6\n",
      "Training Loss: 0.3939859187488617\n",
      "Test Loss: 0.4086402952671051\n",
      "Test Accuracy: 0.8519289493560791\n",
      "\n",
      "Epoch:  7\n",
      "Training Loss: 0.4029437857332514\n",
      "Test Loss: 0.3620277941226959\n",
      "Test Accuracy: 0.8737840056419373\n",
      "\n",
      "Epoch:  8\n",
      "Training Loss: 0.37855344753402637\n",
      "Test Loss: 0.3495310842990875\n",
      "Test Accuracy: 0.8745002746582031\n",
      "\n",
      "Epoch:  9\n",
      "Training Loss: 0.39219320325582013\n",
      "Test Loss: 0.3659687638282776\n",
      "Test Accuracy: 0.8710687756538391\n",
      "\n",
      "Epoch:  10\n",
      "Training Loss: 0.3774305365121822\n",
      "Test Loss: 0.365366667509079\n",
      "Test Accuracy: 0.8697694540023804\n",
      "\n",
      "Epoch:  11\n",
      "Training Loss: 0.3867024681937974\n",
      "Test Loss: 0.37796205282211304\n",
      "Test Accuracy: 0.869452953338623\n",
      "\n",
      "Epoch:  12\n",
      "Training Loss: 0.3882247189373604\n",
      "Test Loss: 0.3887520432472229\n",
      "Test Accuracy: 0.8706856369972229\n",
      "\n",
      "Epoch:  13\n",
      "Training Loss: 0.38177225498089407\n",
      "Test Loss: 0.3337538540363312\n",
      "Test Accuracy: 0.8823960423469543\n",
      "\n",
      "Epoch:  14\n",
      "Training Loss: 0.3690614618742263\n",
      "Test Loss: 0.35355597734451294\n",
      "Test Accuracy: 0.8764492273330688\n",
      "\n",
      "Epoch:  15\n",
      "Training Loss: 0.3909207815284541\n",
      "Test Loss: 0.34815460443496704\n",
      "Test Accuracy: 0.8824293613433838\n",
      "\n",
      "Epoch:  16\n",
      "Training Loss: 0.36477782713896684\n",
      "Test Loss: 0.383532851934433\n",
      "Test Accuracy: 0.863539457321167\n",
      "\n",
      "Epoch:  17\n",
      "Training Loss: 0.37325072811165855\n",
      "Test Loss: 0.33966484665870667\n",
      "Test Accuracy: 0.8820462226867676\n",
      "\n",
      "Epoch:  18\n",
      "Training Loss: 0.3757021083379351\n",
      "Test Loss: 0.3715626299381256\n",
      "Test Accuracy: 0.8742837309837341\n",
      "\n",
      "Epoch:  19\n",
      "Training Loss: 0.3816404475379727\n",
      "Test Loss: 0.3301798105239868\n",
      "Test Accuracy: 0.8868770003318787\n",
      "\n",
      "Epoch:  20\n",
      "Training Loss: 0.36285066177278186\n",
      "Test Loss: 0.3845030963420868\n",
      "Test Accuracy: 0.8631896376609802\n",
      "\n",
      "Epoch:  21\n",
      "Training Loss: 0.3679833216453666\n",
      "Test Loss: 0.36305978894233704\n",
      "Test Accuracy: 0.8825459480285645\n",
      "\n",
      "Epoch:  22\n",
      "Training Loss: 0.3626708617247244\n",
      "Test Loss: 0.33578917384147644\n",
      "Test Accuracy: 0.8797641396522522\n",
      "\n",
      "Epoch:  23\n",
      "Training Loss: 0.3633508847625271\n",
      "Test Loss: 0.36975401639938354\n",
      "Test Accuracy: 0.8743003606796265\n",
      "\n",
      "Epoch:  24\n",
      "Training Loss: 0.3635009695440213\n",
      "Test Loss: 0.3431578278541565\n",
      "Test Accuracy: 0.8785647749900818\n",
      "\n",
      "Epoch:  25\n",
      "Training Loss: 0.3511904869506608\n",
      "Test Loss: 0.3345577120780945\n",
      "Test Accuracy: 0.8849113583564758\n",
      "\n",
      "Epoch:  26\n",
      "Training Loss: 0.35990974413497107\n",
      "Test Loss: 0.34146296977996826\n",
      "Test Accuracy: 0.8848280906677246\n",
      "\n",
      "Epoch:  27\n",
      "Training Loss: 0.3542078851319071\n",
      "Test Loss: 0.38442865014076233\n",
      "Test Accuracy: 0.8668543696403503\n",
      "\n",
      "Epoch:  28\n",
      "Training Loss: 0.3658811963919892\n",
      "Test Loss: 0.3448251187801361\n",
      "Test Accuracy: 0.8834788203239441\n",
      "\n",
      "Epoch:  29\n",
      "Training Loss: 0.37045664669099904\n",
      "Test Loss: 0.35865435004234314\n",
      "Test Accuracy: 0.8762159943580627\n",
      "\n",
      "Epoch:  30\n",
      "Training Loss: 0.3627012949317757\n",
      "Test Loss: 0.331397145986557\n",
      "Test Accuracy: 0.8861440420150757\n"
     ]
    }
   ],
   "source": [
    "model = FashionClassifier()\n",
    "loss_crit = nn.NLLLoss()\n",
    "optimizer = optim.Adam(model.parameters(), lr=0.01)\n",
    "\n",
    "epochs=30\n",
    "steps=0\n",
    "\n",
    "train_losses, test_losses, acc = [], [], []\n",
    "for e in range(epochs):\n",
    "    print(\"\\nEpoch: \", e+1)\n",
    "    running_loss = 0\n",
    "    for images, labels in trainloader: \n",
    "        optimizer.zero_grad()\n",
    "        \n",
    "        log_probs = model(images)\n",
    "        \n",
    "        loss = loss_crit(log_probs, labels)\n",
    "        loss.backward()\n",
    "        optimizer.step()\n",
    "        \n",
    "        running_loss += loss.item()\n",
    "        \n",
    "    else: \n",
    "        test_loss = 0\n",
    "        accuracy = 0\n",
    "\n",
    "        # Turn off the gradients for the validation \n",
    "        with torch.no_grad():\n",
    "            \n",
    "            for images, labels in testloader:\n",
    "                log_probs = model(images)\n",
    "                test_loss += loss_crit(log_probs, labels)\n",
    "\n",
    "                probs = torch.exp(model(images))\n",
    "\n",
    "                # get the predicted class \n",
    "                top_p, top_class = probs.topk(k=1, dim=1)\n",
    "                equals = (top_class == labels.view(*top_class.shape))\n",
    "                accuracy += torch.mean(equals.type(torch.FloatTensor))\n",
    "        \n",
    "        train_losses.append(running_loss/len(trainloader)) \n",
    "        test_losses.append(test_loss/len(testloader))\n",
    "        acc.append(accuracy/len(testloader))\n",
    "        \n",
    "        print(f\"Training Loss: {running_loss/len(trainloader)}\")\n",
    "        print(f\"Test Loss: {test_loss/len(testloader)}\")\n",
    "        print(f\"Test Accuracy: {accuracy/len(testloader)}\")\n",
    "        \n",
    "        "
   ]
  },
  {
   "cell_type": "markdown",
   "metadata": {},
   "source": [
    "#### Plot our training and validation losses"
   ]
  },
  {
   "cell_type": "code",
   "execution_count": 79,
   "metadata": {},
   "outputs": [
    {
     "data": {
      "text/plain": [
       "<matplotlib.legend.Legend at 0x2319af65f28>"
      ]
     },
     "execution_count": 79,
     "metadata": {},
     "output_type": "execute_result"
    },
    {
     "data": {
      "image/png": "[encoded data removed]",
      "text/plain": [
       "<Figure size 432x288 with 1 Axes>"
      ]
     },
     "metadata": {
      "needs_background": "light"
     },
     "output_type": "display_data"
    }
   ],
   "source": [
    "plt.plot(train_losses, label='Training Loss')\n",
    "plt.plot(test_losses, label=\"Validation Loss\")\n",
    "plt.plot(acc, label=\"Validation Accuracy\")\n",
    "plt.legend(frameon=False)"
   ]
  },
  {
   "cell_type": "code",
   "execution_count": null,
   "metadata": {},
   "outputs": [],
   "source": []
  }
 ],
 "metadata": {
  "kernelspec": {
   "display_name": "Python 3",
   "language": "python",
   "name": "python3"
  },
  "language_info": {
   "codemirror_mode": {
    "name": "ipython",
    "version": 3
   },
   "file_extension": ".py",
   "mimetype": "text/x-python",
   "name": "python",
   "nbconvert_exporter": "python",
   "pygments_lexer": "ipython3",
   "version": "3.6.4"
  },
  "toc": {
   "base_numbering": 1,
   "nav_menu": {},
   "number_sections": true,
   "sideBar": true,
   "skip_h1_title": false,
   "title_cell": "Table of Contents",
   "title_sidebar": "Contents",
   "toc_cell": false,
   "toc_position": {},
   "toc_section_display": true,
   "toc_window_display": false
  }
 },
 "nbformat": 4,
 "nbformat_minor": 2
}
