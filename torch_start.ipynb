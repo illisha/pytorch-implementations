{
 "cells": [
  {
   "cell_type": "markdown",
   "metadata": {},
   "source": [
    "## PyTorch Start and Use"
   ]
  },
  {
   "cell_type": "code",
   "execution_count": 2,
   "metadata": {},
   "outputs": [],
   "source": [
    "# Libraries\n",
    "import numpy as np \n",
    "import pandas as pd \n",
    "\n",
    "import torch"
   ]
  },
  {
   "cell_type": "code",
   "execution_count": 33,
   "metadata": {},
   "outputs": [],
   "source": [
    "def activation(x):\n",
    "    \n",
    "    # Sigmoid Activation \n",
    "    return 1/(1 + torch.exp(-x))"
   ]
  },
  {
   "cell_type": "code",
   "execution_count": 9,
   "metadata": {},
   "outputs": [],
   "source": [
    "## Generate some data \n",
    "torch.manual_seed(7) # Set the random seed \n",
    "\n",
    "# Features are 5 random normal variables \n",
    "features = torch.randn((1, 5))\n",
    "\n",
    "# Generate weights for the features \n",
    "weights = torch.randn_like(features)\n",
    "\n",
    "# and a bias term \n",
    "bias = torch.randn((1, 1))"
   ]
  },
  {
   "cell_type": "code",
   "execution_count": 34,
   "metadata": {},
   "outputs": [],
   "source": [
    "# Calculate the ouptput of this network\n",
    "output = activation(torch.mm(features, weights.T) + bias)"
   ]
  },
  {
   "cell_type": "code",
   "execution_count": 37,
   "metadata": {},
   "outputs": [
    {
     "data": {
      "text/plain": [
       "tensor([[-0.8948],\n",
       "        [-0.3556],\n",
       "        [ 1.2324],\n",
       "        [ 0.1382],\n",
       "        [-1.6822]])"
      ]
     },
     "execution_count": 37,
     "metadata": {},
     "output_type": "execute_result"
    }
   ],
   "source": [
    "weights.reshape(5, 1)"
   ]
  },
  {
   "cell_type": "code",
   "execution_count": 39,
   "metadata": {},
   "outputs": [],
   "source": [
    "w = weights.reshape(5, 1)"
   ]
  },
  {
   "cell_type": "markdown",
   "metadata": {},
   "source": [
    "## Multilayer Model"
   ]
  },
  {
   "cell_type": "code",
   "execution_count": 59,
   "metadata": {},
   "outputs": [],
   "source": [
    "## Generate some random data\n",
    "torch.manual_seed(7)\n",
    "\n",
    "# Generate features\n",
    "features = torch.randn((1, 3))\n",
    "\n",
    "# Define the size of each layer in our netowrk \n",
    "n_input = features.shape[1]\n",
    "n_hidden = 2  # Number of hidden units \n",
    "n_output = 1  # number of output units\n",
    "\n",
    "# Weights for inputs to hidden layer \n",
    "W1 = torch.randn(n_input, n_hidden)\n",
    "\n",
    "# Weights for hidden layer to outputs \n",
    "W2 = torch.randn(n_hidden, n_output)\n",
    "\n",
    "# Bias Terms \n",
    "B1 = torch.randn((1, n_hidden))\n",
    "B2 = torch.randn((1, n_output))"
   ]
  },
  {
   "cell_type": "code",
   "execution_count": 60,
   "metadata": {},
   "outputs": [
    {
     "data": {
      "text/plain": [
       "tensor([[0.3171]])"
      ]
     },
     "execution_count": 60,
     "metadata": {},
     "output_type": "execute_result"
    }
   ],
   "source": [
    "h= activation(torch.mm(features, W1) + B1)\n",
    "output = activation(torch.mm(h, W2) + B2)\n",
    "output"
   ]
  },
  {
   "cell_type": "markdown",
   "metadata": {},
   "source": [
    "## Numpy to Torch and back"
   ]
  },
  {
   "cell_type": "code",
   "execution_count": 61,
   "metadata": {},
   "outputs": [
    {
     "data": {
      "text/plain": [
       "array([[-0.53179332,  1.86322441,  1.94352348],\n",
       "       [-2.63318819,  0.291824  ,  1.54809603],\n",
       "       [ 0.2377769 ,  1.67265354,  0.58028972],\n",
       "       [-0.88236909, -0.95554113,  0.57384867]])"
      ]
     },
     "execution_count": 61,
     "metadata": {},
     "output_type": "execute_result"
    }
   ],
   "source": [
    "a = np.random.randn(4, 3)\n",
    "a"
   ]
  },
  {
   "cell_type": "code",
   "execution_count": 62,
   "metadata": {},
   "outputs": [
    {
     "data": {
      "text/plain": [
       "tensor([[-0.5318,  1.8632,  1.9435],\n",
       "        [-2.6332,  0.2918,  1.5481],\n",
       "        [ 0.2378,  1.6727,  0.5803],\n",
       "        [-0.8824, -0.9555,  0.5738]], dtype=torch.float64)"
      ]
     },
     "execution_count": 62,
     "metadata": {},
     "output_type": "execute_result"
    }
   ],
   "source": [
    "b = torch.from_numpy(a)\n",
    "b"
   ]
  },
  {
   "cell_type": "code",
   "execution_count": 63,
   "metadata": {},
   "outputs": [
    {
     "data": {
      "text/plain": [
       "array([[-0.53179332,  1.86322441,  1.94352348],\n",
       "       [-2.63318819,  0.291824  ,  1.54809603],\n",
       "       [ 0.2377769 ,  1.67265354,  0.58028972],\n",
       "       [-0.88236909, -0.95554113,  0.57384867]])"
      ]
     },
     "execution_count": 63,
     "metadata": {},
     "output_type": "execute_result"
    }
   ],
   "source": [
    "b.numpy()"
   ]
  },
  {
   "cell_type": "code",
   "execution_count": 64,
   "metadata": {},
   "outputs": [
    {
     "data": {
      "text/plain": [
       "tensor([[-1.0636,  3.7264,  3.8870],\n",
       "        [-5.2664,  0.5836,  3.0962],\n",
       "        [ 0.4756,  3.3453,  1.1606],\n",
       "        [-1.7647, -1.9111,  1.1477]], dtype=torch.float64)"
      ]
     },
     "execution_count": 64,
     "metadata": {},
     "output_type": "execute_result"
    }
   ],
   "source": [
    "# Shared memory model\n",
    "b.mul_(2)"
   ]
  },
  {
   "cell_type": "code",
   "execution_count": 65,
   "metadata": {},
   "outputs": [
    {
     "data": {
      "text/plain": [
       "array([[-1.06358664,  3.72644882,  3.88704697],\n",
       "       [-5.26637638,  0.58364801,  3.09619206],\n",
       "       [ 0.47555379,  3.34530709,  1.16057944],\n",
       "       [-1.76473818, -1.91108225,  1.14769734]])"
      ]
     },
     "execution_count": 65,
     "metadata": {},
     "output_type": "execute_result"
    }
   ],
   "source": [
    "a"
   ]
  },
  {
   "cell_type": "code",
   "execution_count": null,
   "metadata": {},
   "outputs": [],
   "source": []
  }
 ],
 "metadata": {
  "kernelspec": {
   "display_name": "Python 3",
   "language": "python",
   "name": "python3"
  },
  "language_info": {
   "codemirror_mode": {
    "name": "ipython",
    "version": 3
   },
   "file_extension": ".py",
   "mimetype": "text/x-python",
   "name": "python",
   "nbconvert_exporter": "python",
   "pygments_lexer": "ipython3",
   "version": "3.6.4"
  },
  "toc": {
   "base_numbering": 1,
   "nav_menu": {},
   "number_sections": true,
   "sideBar": true,
   "skip_h1_title": false,
   "title_cell": "Table of Contents",
   "title_sidebar": "Contents",
   "toc_cell": false,
   "toc_position": {},
   "toc_section_display": true,
   "toc_window_display": false
  }
 },
 "nbformat": 4,
 "nbformat_minor": 2
}
